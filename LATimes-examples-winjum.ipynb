{
 "cells": [
  {
   "cell_type": "markdown",
   "metadata": {},
   "source": [
    "# california-coronavirus-data examples, modified slightly for presentation to CESMII"
   ]
  },
  {
   "cell_type": "markdown",
   "metadata": {},
   "source": [
    "The interactive examples for the presentation are shown at the bottom under \"Additions for the CESMII/RTG workshop\".  If you want to run an interactive example of this notebook, you can click here:\n",
    "[![Binder](https://mybinder.org/badge_logo.svg)]([![Binder](https://mybinder.org/badge_logo.svg)](https://mybinder.org/v2/gh/benjum/winjum_cesmii_presentation/master?filepath=LATimes-examples-winjum.ipynb))\n",
    "\n",
    "The first part of this notebook is taken directly from the LA Times notebook by [Ben Welsh](https://palewi.re/who-is-ben-welsh).  That notebook is \"A demonstration of how to use Python to work with the Los Angeles Times' independent tally of coronavirus cases in California published on GitHub at [datadesk/california-coronavirus-data](https://github.com/datadesk/california-coronavirus-data#state-cdph-totalscsv).\" To run that original notebook immediately in the cloud,  click the [Binder](https://mybinder.org/) launcher here:  [![Binder](https://mybinder.org/badge_logo.svg)](https://mybinder.org/v2/gh/datadesk/california-coronavirus-data/master?urlpath=lab/tree/notebooks/examples.ipynb)\n",
    "\n"
   ]
  },
  {
   "cell_type": "markdown",
   "metadata": {},
   "source": [
    "## Import Python tools"
   ]
  },
  {
   "cell_type": "markdown",
   "metadata": {},
   "source": [
    "Our data analysis and plotting tools"
   ]
  },
  {
   "cell_type": "code",
   "execution_count": null,
   "metadata": {},
   "outputs": [],
   "source": [
    "import pandas as pd\n",
    "import altair as alt"
   ]
  },
  {
   "cell_type": "markdown",
   "metadata": {},
   "source": [
    "Customizations to the Altair theme"
   ]
  },
  {
   "cell_type": "code",
   "execution_count": null,
   "metadata": {},
   "outputs": [],
   "source": [
    "import altair_latimes as lat"
   ]
  },
  {
   "cell_type": "code",
   "execution_count": null,
   "metadata": {},
   "outputs": [],
   "source": [
    "alt.themes.register('latimes', lat.theme)\n",
    "alt.themes.enable('latimes')"
   ]
  },
  {
   "cell_type": "markdown",
   "metadata": {},
   "source": [
    "## Import data"
   ]
  },
  {
   "cell_type": "markdown",
   "metadata": {},
   "source": [
    "Read in the agency totals"
   ]
  },
  {
   "cell_type": "code",
   "execution_count": null,
   "metadata": {},
   "outputs": [],
   "source": [
    "agency_df = pd.read_csv(\n",
    "    \"latimes-agency-totals.csv\",\n",
    "    parse_dates=[\"date\"]\n",
    ")"
   ]
  },
  {
   "cell_type": "code",
   "execution_count": null,
   "metadata": {},
   "outputs": [],
   "source": [
    "agency_df.head()"
   ]
  },
  {
   "cell_type": "code",
   "execution_count": null,
   "metadata": {},
   "outputs": [],
   "source": [
    "agency_df.info()"
   ]
  },
  {
   "cell_type": "markdown",
   "metadata": {},
   "source": [
    "## Aggregate data"
   ]
  },
  {
   "cell_type": "markdown",
   "metadata": {},
   "source": [
    "### By state"
   ]
  },
  {
   "cell_type": "markdown",
   "metadata": {},
   "source": [
    "Lump all the agencies together and you get the statewide totals."
   ]
  },
  {
   "cell_type": "code",
   "execution_count": null,
   "metadata": {},
   "outputs": [],
   "source": [
    "state_df = agency_df.groupby([\"date\"]).agg({\n",
    "    \"confirmed_cases\": \"sum\",\n",
    "    \"deaths\": \"sum\"\n",
    "}).reset_index()"
   ]
  },
  {
   "cell_type": "code",
   "execution_count": null,
   "metadata": {},
   "outputs": [],
   "source": [
    "state_df.head()"
   ]
  },
  {
   "cell_type": "code",
   "execution_count": null,
   "metadata": {},
   "outputs": [],
   "source": [
    "state_df.info()"
   ]
  },
  {
   "cell_type": "markdown",
   "metadata": {},
   "source": [
    "### By county"
   ]
  },
  {
   "cell_type": "markdown",
   "metadata": {},
   "source": [
    "Three cities &mdash; Berkeley, Long Beach and Pasadena &mdash; run independent public health departments. Calculating county-level totals requires grouping them with their local peers."
   ]
  },
  {
   "cell_type": "code",
   "execution_count": null,
   "metadata": {},
   "outputs": [],
   "source": [
    "county_df = agency_df.groupby([\"date\", \"county\"]).agg({\n",
    "    \"confirmed_cases\": \"sum\",\n",
    "    \"deaths\": \"sum\"\n",
    "}).reset_index()"
   ]
  },
  {
   "cell_type": "code",
   "execution_count": null,
   "metadata": {},
   "outputs": [],
   "source": [
    "county_df.head()"
   ]
  },
  {
   "cell_type": "code",
   "execution_count": null,
   "metadata": {},
   "outputs": [],
   "source": [
    "county_df.info()"
   ]
  },
  {
   "cell_type": "markdown",
   "metadata": {},
   "source": [
    "## Chart the statewide totals over time"
   ]
  },
  {
   "cell_type": "code",
   "execution_count": null,
   "metadata": {},
   "outputs": [],
   "source": [
    "# Create a base chart with the common x-axis\n",
    "chart = alt.Chart(state_df).encode(\n",
    "    x=alt.X(\"date:T\", title=None)\n",
    ")\n",
    "\n",
    "# Create the cases line\n",
    "cases = chart.mark_line(color=lat.palette['default']).encode(\n",
    "    y=alt.Y(\"confirmed_cases:Q\", title=\"Confirmed cases\")\n",
    ")\n",
    "\n",
    "# Create the deaths line\n",
    "deaths = chart.mark_line(color=lat.palette['schemes']['ice-7'][3]).encode(\n",
    "    y=alt.Y(\"deaths:Q\", title=\"Deaths\")\n",
    ")\n",
    "\n",
    "# Combine them into a single chart\n",
    "(cases & deaths).properties(title=\"Statewide cumulative totals\")"
   ]
  },
  {
   "cell_type": "markdown",
   "metadata": {},
   "source": [
    "## Chart the county totals"
   ]
  },
  {
   "cell_type": "markdown",
   "metadata": {},
   "source": [
    "First on a linear scale"
   ]
  },
  {
   "cell_type": "code",
   "execution_count": null,
   "metadata": {},
   "outputs": [],
   "source": [
    "# Create the base chart\n",
    "chart = alt.Chart(county_df).mark_line().encode(\n",
    "    x=alt.X(\"date:T\", title=None),\n",
    "    color=alt.Color(\"county:N\", title=\"County\", legend=None)\n",
    ")\n",
    "\n",
    "# The cases line\n",
    "cases = chart.encode(\n",
    "    y=alt.Y(\n",
    "        \"confirmed_cases:Q\",\n",
    "        title=\"Confirmed cases\"\n",
    "    ),\n",
    ")\n",
    "\n",
    "# The deaths line\n",
    "deaths = chart.mark_line().encode(\n",
    "    y=alt.Y(\"deaths:Q\", title=\"Deaths\"),\n",
    ")\n",
    "\n",
    "# Combined into a chart\n",
    "(cases & deaths).properties(title=\"Cumulative totals by county\")"
   ]
  },
  {
   "cell_type": "markdown",
   "metadata": {},
   "source": [
    "Again on a logarithmic scale"
   ]
  },
  {
   "cell_type": "code",
   "execution_count": null,
   "metadata": {},
   "outputs": [],
   "source": [
    "# Make a base chart\n",
    "chart = alt.Chart(county_df).mark_line().encode(\n",
    "    x=alt.X(\"date:T\", title=None),\n",
    "    color=alt.Color(\"county:N\", title=\"County\", legend=None)\n",
    ")\n",
    "\n",
    "# The cases lines\n",
    "cases = chart.transform_filter(alt.datum.confirmed_cases > 0).encode(\n",
    "    y=alt.Y(\n",
    "        \"confirmed_cases:Q\",\n",
    "        scale=alt.Scale(type='log'),\n",
    "        title=\"Confirmed cases\"\n",
    "    ),\n",
    ")\n",
    "\n",
    "# The deaths lines\n",
    "deaths = chart.transform_filter(alt.datum.deaths > 0).encode(\n",
    "    y=alt.Y(\n",
    "        \"deaths:Q\",\n",
    "        scale=alt.Scale(type='log'),\n",
    "        title=\"Deaths\"\n",
    "    ),\n",
    ")\n",
    "\n",
    "# Slapping them together\n",
    "(cases & deaths).properties(title=\"Cumulative totals by county\")"
   ]
  },
  {
   "cell_type": "markdown",
   "metadata": {},
   "source": [
    "A common technique for clarifying these charts to begin each line on the day the county hit a minimum number. Let's try it with 10."
   ]
  },
  {
   "cell_type": "code",
   "execution_count": null,
   "metadata": {},
   "outputs": [],
   "source": [
    "day_10_df = county_df[\n",
    "    # Filter down to only days with 10 or more cumulative cases\n",
    "    county_df.confirmed_cases >= 10\n",
    "].groupby(\n",
    "    # And then get the minimum date for each county\n",
    "    'county'\n",
    ").date.min().reset_index()"
   ]
  },
  {
   "cell_type": "markdown",
   "metadata": {},
   "source": [
    "Merge that date to each row in the data."
   ]
  },
  {
   "cell_type": "code",
   "execution_count": null,
   "metadata": {},
   "outputs": [],
   "source": [
    "county_date_diff_df = county_df.merge(\n",
    "    day_10_df,\n",
    "    how='inner',\n",
    "    on='county',\n",
    "    suffixes=['', '_gte_10_cases']\n",
    ")"
   ]
  },
  {
   "cell_type": "markdown",
   "metadata": {},
   "source": [
    "Calculate each day's distance from its tenth day."
   ]
  },
  {
   "cell_type": "code",
   "execution_count": null,
   "metadata": {},
   "outputs": [],
   "source": [
    "county_date_diff_df['days_since_10'] = (\n",
    "    county_date_diff_df.date - county_date_diff_df.date_gte_10_cases\n",
    ").dt.days"
   ]
  },
  {
   "cell_type": "markdown",
   "metadata": {},
   "source": [
    "Chart it."
   ]
  },
  {
   "cell_type": "code",
   "execution_count": null,
   "metadata": {},
   "outputs": [],
   "source": [
    "alt.Chart(county_date_diff_df).transform_filter(\n",
    "    # Only keep everything once they hit 10 cases\n",
    "    alt.datum.days_since_10 >= 0\n",
    ").mark_line().encode(\n",
    "    x=alt.X(\n",
    "        \"days_since_10:O\",\n",
    "        title=\"Days since 10th case\"\n",
    "    ),\n",
    "    y=alt.Y(\n",
    "        \"confirmed_cases:Q\",\n",
    "        scale=alt.Scale(type='log'),\n",
    "        title=\"Confirmed cases\"\n",
    "    ),\n",
    "    color=alt.Color(\"county:N\", title=\"County\", legend=None)\n",
    ").properties(title=\"Cumulative totals by county\")"
   ]
  },
  {
   "cell_type": "markdown",
   "metadata": {},
   "source": [
    "## County trends on a linear 'Pez' plot"
   ]
  },
  {
   "cell_type": "markdown",
   "metadata": {},
   "source": [
    "Fill in any date gaps so that every county has a row for every date."
   ]
  },
  {
   "cell_type": "code",
   "execution_count": null,
   "metadata": {},
   "outputs": [],
   "source": [
    "backfilled_county_df = county_df.set_index([\n",
    "    \"county\",\n",
    "    \"date\"\n",
    "]).unstack(\"county\").fillna(0).stack(\"county\").reset_index()"
   ]
  },
  {
   "cell_type": "markdown",
   "metadata": {},
   "source": [
    "Calculate the rolling change in each county."
   ]
  },
  {
   "cell_type": "code",
   "execution_count": null,
   "metadata": {},
   "outputs": [],
   "source": [
    "chronological_county_df = backfilled_county_df.sort_values([\"county\", \"date\"])"
   ]
  },
  {
   "cell_type": "markdown",
   "metadata": {},
   "source": [
    "Calculate the daily change in each county."
   ]
  },
  {
   "cell_type": "code",
   "execution_count": null,
   "metadata": {},
   "outputs": [],
   "source": [
    "chronological_county_df['new_confirmed_cases'] = chronological_county_df.groupby(\"county\").confirmed_cases.diff()"
   ]
  },
  {
   "cell_type": "markdown",
   "metadata": {},
   "source": [
    "Let's chill that out as a seven-day average."
   ]
  },
  {
   "cell_type": "code",
   "execution_count": null,
   "metadata": {},
   "outputs": [],
   "source": [
    "chronological_county_df['new_confirmed_cases_rolling_average'] = chronological_county_df.new_confirmed_cases.rolling(7).mean()"
   ]
  },
  {
   "cell_type": "markdown",
   "metadata": {},
   "source": [
    "Make the chart."
   ]
  },
  {
   "cell_type": "code",
   "execution_count": null,
   "metadata": {},
   "outputs": [],
   "source": [
    "alt.Chart(chronological_county_df, title=\"New cases by day\").mark_rect(stroke=None).encode(\n",
    "    x=alt.X(\n",
    "        'date:O',\n",
    "        axis=alt.Axis(\n",
    "            ticks=False,\n",
    "            grid=False,\n",
    "            labels=False,\n",
    "        ),\n",
    "        title=None\n",
    "    ),\n",
    "    y=alt.Y(\n",
    "        'county:N',\n",
    "        title=\"County\",\n",
    "        axis=alt.Axis(ticks=False, grid=False, labelPadding=5)\n",
    "    ),\n",
    "    color=alt.Color(\n",
    "        \"new_confirmed_cases_rolling_average:Q\",\n",
    "        scale=alt.Scale(\n",
    "            type=\"threshold\",\n",
    "            domain=[0, 3, 10, 25, 50, 100, 500],\n",
    "            scheme=\"blues\"\n",
    "        ),\n",
    "        title=\"New cases (7-day average)\"\n",
    "    )\n",
    ").properties(height=800)"
   ]
  },
  {
   "cell_type": "markdown",
   "metadata": {},
   "source": [
    "## Chart new cases and deaths"
   ]
  },
  {
   "cell_type": "markdown",
   "metadata": {},
   "source": [
    "Calculate the number of new cases each day using panda's [diff](https://pandas.pydata.org/pandas-docs/stable/reference/api/pandas.DataFrame.diff.html) method."
   ]
  },
  {
   "cell_type": "code",
   "execution_count": null,
   "metadata": {},
   "outputs": [],
   "source": [
    "state_df['new_confirmed_cases'] = state_df.confirmed_cases.diff()"
   ]
  },
  {
   "cell_type": "markdown",
   "metadata": {},
   "source": [
    "Do the same for deaths"
   ]
  },
  {
   "cell_type": "code",
   "execution_count": null,
   "metadata": {},
   "outputs": [],
   "source": [
    "state_df['new_deaths'] = state_df.deaths.diff()"
   ]
  },
  {
   "cell_type": "markdown",
   "metadata": {},
   "source": [
    "Now calculate the moving seven-day average of each using panda's [rolling](https://pandas.pydata.org/pandas-docs/stable/reference/api/pandas.DataFrame.rolling.html) method."
   ]
  },
  {
   "cell_type": "code",
   "execution_count": null,
   "metadata": {},
   "outputs": [],
   "source": [
    "state_df['new_confirmed_cases_rolling_average'] = state_df.new_confirmed_cases.rolling(7).mean()"
   ]
  },
  {
   "cell_type": "code",
   "execution_count": null,
   "metadata": {},
   "outputs": [],
   "source": [
    "state_df['new_deaths_rolling_average'] = state_df.new_deaths.rolling(7).mean()"
   ]
  },
  {
   "cell_type": "markdown",
   "metadata": {},
   "source": [
    "Put it all together on the chart "
   ]
  },
  {
   "cell_type": "code",
   "execution_count": null,
   "metadata": {},
   "outputs": [],
   "source": [
    "# One base chart object with the data they all share\n",
    "chart = alt.Chart(state_df).encode(\n",
    "    x=alt.X(\"date:T\", title=None),\n",
    ")\n",
    "\n",
    "# The new cases bars\n",
    "cases_bars = chart.mark_bar(color=lat.palette['default']).encode(\n",
    "    y=alt.Y(\n",
    "        \"new_confirmed_cases:Q\",\n",
    "        title=\"New confirmed cases\"\n",
    "    )\n",
    ")\n",
    "\n",
    "# The cases rolling average\n",
    "cases_line = chart.mark_line(color=lat.palette['accent']).encode(\n",
    "    y=alt.Y(\n",
    "        \"new_confirmed_cases_rolling_average:Q\",\n",
    "        title=\"7-day average\"\n",
    "    )\n",
    ")\n",
    "\n",
    "# The new deaths bars\n",
    "deaths_bars = chart.mark_bar(color=lat.palette['schemes']['ice-7'][3]).encode(\n",
    "    y=alt.Y(\n",
    "        \"new_deaths:Q\",\n",
    "        title=\"New deaths\"\n",
    "    )\n",
    ")\n",
    "\n",
    "# The deaths rolling average\n",
    "deaths_line = chart.mark_line(color=lat.palette['schemes']['ice-7'][6]).encode(\n",
    "    y=alt.Y(\n",
    "        \"new_deaths_rolling_average:Q\",\n",
    "        title=\"7-day average\"\n",
    "    )\n",
    ")\n",
    "\n",
    "# Combine it all together into one paired chart\n",
    "((cases_bars + cases_line) & (deaths_bars + deaths_line)).properties(\n",
    "    title=\"New case and deaths statewide by day\"\n",
    ")"
   ]
  },
  {
   "cell_type": "markdown",
   "metadata": {},
   "source": [
    "# Additions for the CESMII/RTG workshop"
   ]
  },
  {
   "cell_type": "markdown",
   "metadata": {},
   "source": [
    "## Adding a few interactive elements to the Altair plots"
   ]
  },
  {
   "cell_type": "markdown",
   "metadata": {},
   "source": [
    "Here is a chart from above:"
   ]
  },
  {
   "cell_type": "code",
   "execution_count": null,
   "metadata": {},
   "outputs": [],
   "source": [
    "# Create the base chart\n",
    "chart = alt.Chart(county_df).mark_line().encode(\n",
    "    x=alt.X(\"date:T\", title=None),\n",
    "    color=alt.Color(\"county:N\", title=\"County\", legend=None)\n",
    ")\n",
    "\n",
    "# The cases line\n",
    "cases = chart.encode(\n",
    "    y=alt.Y(\n",
    "        \"confirmed_cases:Q\",\n",
    "        title=\"Confirmed cases\"\n",
    "    ),\n",
    ")\n",
    "\n",
    "# The deaths line\n",
    "deaths = chart.mark_line().encode(\n",
    "    y=alt.Y(\"deaths:Q\", title=\"Deaths\"),\n",
    ")\n",
    "\n",
    "# Combined into a chart\n",
    "(cases & deaths).properties(title=\"Cumulative totals by county\")"
   ]
  },
  {
   "cell_type": "markdown",
   "metadata": {},
   "source": [
    "The next cell takes this line chart and adds new elements for interactivity.\n",
    "* a selector was added with `selopac = ...` that will allow lines to be selected via county labels in the legend\n",
    "  * four options are included so you can see different effects\n",
    "* `how_to_select` gets added to the chart title so you know what to look for\n",
    "* In the specification for `chart`:\n",
    "  * `county_df` was changed to `county_df.loc[county_df['confirmed_cases']>250]` to make fewer lines show up on the plot (only those counties with over 250 confirmed cases)\n",
    "  * we removed `legend=None` from the color so as to show the legend\n",
    "  * `opacity=alt.condition(selopac, alt.value(1), alt.value(0.1))` was added to change the line opacity based on county selection\n",
    "  * `.add_selection(selopac)` was added to associate the selector with the chart"
   ]
  },
  {
   "cell_type": "code",
   "execution_count": null,
   "metadata": {},
   "outputs": [],
   "source": [
    "# UNCOMMENT ANOTHER PAIR (selopac + how_to_select) TO SEE OTHER EFFECTS\n",
    "selopac = alt.selection_single(fields=['county'])\n",
    "how_to_select = 'CLICK ON LINE TO SELECT'\n",
    "# selopac = alt.selection_single(fields=['county'],bind='legend') \n",
    "# how_to_select = 'CLICK ON COUNTY IN LEGEND TO SELECT'\n",
    "# selopac = alt.selection_single(on='mouseover',fields=['county'])\n",
    "# how_to_select = 'MOVE MOUSE OVER LINE TO SELECT'\n",
    "# selopac = alt.selection_single(on='mouseover',fields=['county'],bind='legend') \n",
    "# how_to_select = 'MOVE MOUSE OVER LINE TO SELECT LINE + LEGEND ENTRY'\n",
    "\n",
    "# Create the base chart\n",
    "chart = alt.Chart(county_df.loc[county_df['confirmed_cases']>250]).mark_line().encode(\n",
    "    x=alt.X(\"date:T\", title=None),\n",
    "    color=alt.Color(\"county:N\", title=\"County\"),\n",
    "    opacity=alt.condition(selopac, alt.value(1), alt.value(0.1))\n",
    ").add_selection(selopac)\n",
    "\n",
    "# The cases line\n",
    "cases = chart.encode(\n",
    "    y=alt.Y(\n",
    "        \"confirmed_cases:Q\",\n",
    "        title=\"Confirmed cases\"\n",
    "    ),\n",
    ")\n",
    "\n",
    "# The deaths line\n",
    "deaths = chart.mark_line().encode(\n",
    "    y=alt.Y(\"deaths:Q\", title=\"Deaths\"),\n",
    ")\n",
    "\n",
    "# Combined into a chart\n",
    "(cases & deaths).properties(title=\"Cumulative totals by county, \"+how_to_select)"
   ]
  },
  {
   "cell_type": "markdown",
   "metadata": {},
   "source": [
    "## Plotly"
   ]
  },
  {
   "cell_type": "markdown",
   "metadata": {},
   "source": [
    "Plotly express is an easy way to make quick plots for inspection.  After making the plot, try moving your mouse over the plot to see the tooltips, investigate the little menu that becomes visible, zoom in on the plot, and etc."
   ]
  },
  {
   "cell_type": "code",
   "execution_count": null,
   "metadata": {},
   "outputs": [],
   "source": [
    "import plotly.express as px\n",
    "\n",
    "fig = px.bar(state_df, x=\"date\", y=\"new_confirmed_cases\")\n",
    "fig.show()"
   ]
  },
  {
   "cell_type": "markdown",
   "metadata": {},
   "source": [
    "## Add 7-day average line and some styling  "
   ]
  },
  {
   "cell_type": "code",
   "execution_count": null,
   "metadata": {},
   "outputs": [],
   "source": [
    "import plotly.graph_objects as go\n",
    "\n",
    "fig = go.Figure()\n",
    "\n",
    "fig.add_trace(go.Bar(x=state_df[\"date\"], y=state_df[\"new_confirmed_cases\"],name='new confirmed cases'))\n",
    "fig.add_trace(go.Scatter(x=state_df[\"date\"], y=state_df[\"new_confirmed_cases_rolling_average\"], name='7-day rolling avg'))\n",
    "\n",
    "fig.update_xaxes(showline=True, linecolor='black', showgrid=True, gridwidth=1, gridcolor='LightBlue')\n",
    "fig.update_yaxes(showline=True, linecolor='black', showgrid=True, gridwidth=1, gridcolor='LightBlue')\n",
    "fig.update_layout(legend=dict(x=0.1, y=0.9, bordercolor=\"Black\", borderwidth=2))\n",
    "fig.update_layout(width=750, height=500, plot_bgcolor=\"White\", title=\"New confirmed cases\")\n",
    "\n",
    "fig.show()"
   ]
  },
  {
   "cell_type": "markdown",
   "metadata": {},
   "source": [
    "### Similar plot for counties, now combining the plotly plot with the ipywidgets library"
   ]
  },
  {
   "cell_type": "markdown",
   "metadata": {},
   "source": [
    "First, make the data arrays for county info, being careful to do diffs and averages for individual counties and not between different county data"
   ]
  },
  {
   "cell_type": "code",
   "execution_count": null,
   "metadata": {},
   "outputs": [],
   "source": [
    "for i in county_df.county.unique():\n",
    "    county_df.loc[county_df.county == i,'new_confirmed_cases'] = county_df.loc[county_df.county == i].confirmed_cases.diff()\n",
    "    county_df.loc[county_df.county == i,'new_confirmed_cases_rolling_average'] = county_df.loc[county_df.county == i].new_confirmed_cases.rolling(7).mean()"
   ]
  },
  {
   "cell_type": "markdown",
   "metadata": {},
   "source": [
    "Then, we use ipywidgets to make select via county:\n",
    "* make a function to hold the plotting routine\n",
    "* call ipywidgets.interact with the name of the created function and a parameter equal to the list of available counties"
   ]
  },
  {
   "cell_type": "code",
   "execution_count": null,
   "metadata": {},
   "outputs": [],
   "source": [
    "import plotly.graph_objects as go\n",
    "import ipywidgets\n",
    "\n",
    "def countyplotly(county2plot='Los Angeles'):\n",
    "    dfhere = county_df.loc[county_df.county == county2plot]\n",
    "    \n",
    "    fig = go.Figure()\n",
    "    \n",
    "    fig.add_trace(go.Bar(x=dfhere[\"date\"], y=dfhere[\"new_confirmed_cases\"],name='new confirmed cases'))\n",
    "    fig.add_trace(go.Scatter(x=dfhere[\"date\"], y=dfhere[\"new_confirmed_cases_rolling_average\"], name='7-day rolling avg'))\n",
    "\n",
    "    fig.update_xaxes(showline=True, linecolor='black', showgrid=True, gridwidth=1, gridcolor='LightBlue')\n",
    "    fig.update_yaxes(showline=True, linecolor='black', showgrid=True, gridwidth=1, gridcolor='LightBlue')\n",
    "    fig.update_layout(legend=dict(x=0.1, y=0.9, bordercolor=\"Black\", borderwidth=2))\n",
    "    fig.update_layout(width=750, height=500, plot_bgcolor=\"White\", title=\"New confirmed cases\")\n",
    "\n",
    "    fig.show()\n",
    "\n",
    "ipywidgets.interact(countyplotly,county2plot=sorted(county_df.county.unique()));"
   ]
  }
 ],
 "metadata": {
  "kernelspec": {
   "display_name": "Python 3",
   "language": "python",
   "name": "python3"
  },
  "language_info": {
   "codemirror_mode": {
    "name": "ipython",
    "version": 3
   },
   "file_extension": ".py",
   "mimetype": "text/x-python",
   "name": "python",
   "nbconvert_exporter": "python",
   "pygments_lexer": "ipython3",
   "version": "3.7.3"
  }
 },
 "nbformat": 4,
 "nbformat_minor": 4
}
