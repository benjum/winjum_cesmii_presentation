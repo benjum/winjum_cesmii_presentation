{
 "cells": [
  {
   "cell_type": "markdown",
   "metadata": {},
   "source": [
    "This notebook provides plots of data provided by the NY Times repository of data on coronavirus cases and deaths in the U.S. (see https://github.com/nytimes/covid-19-data, retrieved on 4/17/20)\n",
    "\n",
    "The top part of this notebook is taken from a notebook provided at https://github.com/jsirott/covid-19-data.\n",
    "\n",
    "The part below \"Additions for the CESMII/RTG workshop\" extends the plots with some interactive elements."
   ]
  },
  {
   "cell_type": "code",
   "execution_count": null,
   "metadata": {},
   "outputs": [],
   "source": [
    "import pandas as pd\n",
    "import numpy as np\n",
    "import matplotlib\n",
    "import matplotlib.pyplot as plt\n",
    "from matplotlib.ticker import ScalarFormatter"
   ]
  },
  {
   "cell_type": "code",
   "execution_count": null,
   "metadata": {},
   "outputs": [],
   "source": [
    "df = pd.read_csv('nytimes-us-counties.csv')\n",
    "kc = df[df.county == 'King'].set_index('date')\n",
    "kc['delta_cases'] = kc['cases'] - kc['cases'].shift(1) \n",
    "kc['delta_deaths'] = kc['deaths'] - kc['deaths'].shift(1) \n",
    "kc.head()"
   ]
  },
  {
   "cell_type": "code",
   "execution_count": null,
   "metadata": {},
   "outputs": [],
   "source": [
    "fig,ax = plt.subplots(1,2,figsize=(16,8))\n",
    "ax[0].set_title('Cases')\n",
    "ax[1].set_title('New cases')\n",
    "subplot = kc['cases'].plot(kind='bar',logy=True,ax=ax[0])\n",
    "subplot = kc['delta_cases'].plot(kind='bar',ax=ax[1])\n",
    "ax[0].yaxis.set_major_formatter(ScalarFormatter())\n"
   ]
  },
  {
   "cell_type": "code",
   "execution_count": null,
   "metadata": {},
   "outputs": [],
   "source": [
    "fig,ax = plt.subplots(1,2,figsize=(16,8))\n",
    "ax[0].set_title('Deaths')\n",
    "ax[1].set_title('New deaths')\n",
    "subplot = kc['deaths'].plot(kind='bar',logy=True,ax=ax[0])\n",
    "subplot = kc['delta_deaths'].plot(kind='bar',ax=ax[1])\n",
    "ax[0].yaxis.set_major_formatter(ScalarFormatter())\n"
   ]
  },
  {
   "cell_type": "markdown",
   "metadata": {},
   "source": [
    "# Additions for the CESMII/RTG workshop"
   ]
  },
  {
   "cell_type": "markdown",
   "metadata": {},
   "source": [
    "The plots above show cases and deaths for Kings County in Washington state.\n",
    "\n",
    "It would be useful to be able to select which county we want to view, as well as select by state.\n",
    "\n",
    "To do this, let's use the ipywidgets library."
   ]
  },
  {
   "cell_type": "code",
   "execution_count": null,
   "metadata": {},
   "outputs": [],
   "source": [
    "import ipywidgets"
   ]
  },
  {
   "cell_type": "markdown",
   "metadata": {},
   "source": [
    "To add an interactive menu for county selection:\n",
    "* put the lines for plotting into a function\n",
    "* include two lines to define kc based on a general county variable\n",
    "* call ipywidgets.interact with the name of the function and a parameter equal to the list of counties"
   ]
  },
  {
   "cell_type": "code",
   "execution_count": null,
   "metadata": {},
   "outputs": [],
   "source": [
    "def makeplot(county='King'):\n",
    "\n",
    "    kc = df[(df.county==county)].set_index('date')\n",
    "    kc['delta_cases'] = kc['cases'] - kc['cases'].shift(1) \n",
    "    \n",
    "    fig,ax = plt.subplots(1,2,figsize=(16,8))\n",
    "    ax[0].set_title('Cases')\n",
    "    ax[1].set_title('New cases')\n",
    "    subplot = kc['cases'].plot(kind='bar',logy=True,ax=ax[0])\n",
    "    subplot = kc['delta_cases'].plot(kind='bar',ax=ax[1])\n",
    "    ax[0].yaxis.set_major_formatter(ScalarFormatter())\n",
    "\n",
    "ipywidgets.interact(makeplot,county=df.county.unique());"
   ]
  },
  {
   "cell_type": "markdown",
   "metadata": {},
   "source": [
    "To add a further selection option for state in the next cell, we do the following:\n",
    "* define the function with two arguments\n",
    "* define kc so that its data is specified for both county and state\n",
    "* explicitly declare two menu widgets (`ipywidgets.Dropdown`) whose `options` are equal to unique (and sorted) lists of county and state values\n",
    "  * the default values have optionally been specified to be Los Angeles, CA\n",
    "* only list counties that are in a selected state\n",
    "  * this is done by \"observing\" the state menu via `d1.observe`\n",
    "  * this function is called with a function that sets the new options for the county widget to be equal to the counties of the selected \"new\" state, where `change.new` is the `value` of the widget being observed"
   ]
  },
  {
   "cell_type": "code",
   "execution_count": null,
   "metadata": {},
   "outputs": [],
   "source": [
    "def makecases(state='California',county='Los Angeles'):\n",
    "    \n",
    "    kc = df[(df.county == county) & (df.state == state)].set_index('date')\n",
    "    kc['delta_cases'] = kc['cases'] - kc['cases'].shift(1) \n",
    "    \n",
    "    fig,ax = plt.subplots(1,2,figsize=(16,8))\n",
    "    ax[0].set_title('Cases')\n",
    "    ax[1].set_title('New cases')\n",
    "    subplot = kc['cases'].plot(kind='bar',logy=True,ax=ax[0])\n",
    "    subplot = kc['delta_cases'].plot(kind='bar',ax=ax[1])\n",
    "    ax[0].yaxis.set_major_formatter(ScalarFormatter())\n",
    "\n",
    "d1 = ipywidgets.Dropdown(options= sorted(df['state'].unique()),value='California')\n",
    "d2 = ipywidgets.Dropdown(options= sorted(df.loc[df['state']==d1.value,'county'].unique()),value='Los Angeles')\n",
    "def changestate(change):\n",
    "    d2.options=sorted(df.loc[df['state']==change.new,'county'].unique())\n",
    "d1.observe(changestate,'value')\n",
    "\n",
    "ipywidgets.interact(makecases,state=d1,county=d2);"
   ]
  },
  {
   "cell_type": "markdown",
   "metadata": {},
   "source": [
    "## plotly\n",
    "\n",
    "As one further example, we show how to make a bare-bones interactive plot with plotly.\n",
    "\n",
    "The interactivity is now both via the menu items and via the mouse control over the generated plot.\n",
    "\n",
    "After making the plot, try moving your mouse over the plot to see the tooltips, investigate the little menu that becomes visible, zoom in on the plot, and etc."
   ]
  },
  {
   "cell_type": "code",
   "execution_count": null,
   "metadata": {},
   "outputs": [],
   "source": [
    "import plotly.express as px"
   ]
  },
  {
   "cell_type": "code",
   "execution_count": null,
   "metadata": {},
   "outputs": [],
   "source": [
    "def makecases(state='California',county='Los Angeles'):\n",
    "    kc = df[(df.county == county) & (df.state == state)]\n",
    "    fig = px.bar(kc,x='date',y='cases',title='Cases')\n",
    "    fig.update_layout(yaxis_type=\"log\")\n",
    "    fig.show()\n",
    "\n",
    "d1 = ipywidgets.Dropdown(options=sorted(df['state'].unique()),value='California')\n",
    "d2 = ipywidgets.Dropdown(options=sorted(df.loc[df['state']=='California','county'].unique()),value='Los Angeles')\n",
    "def changestate(change):\n",
    "    d2.options=sorted(df.loc[df['state']==change.new,'county'].unique())\n",
    "d1.observe(changestate,'value')\n",
    "\n",
    "ipywidgets.interact(makecases,state=d1,county=d2);"
   ]
  },
  {
   "cell_type": "code",
   "execution_count": null,
   "metadata": {},
   "outputs": [],
   "source": [
    "def makecases(state='California',county='Los Angeles'):\n",
    "    kc = df[(df.county == county) & (df.state == state)]\n",
    "    fig = px.bar(kc,x='date',y='deaths',title='Deaths')\n",
    "    fig.show()\n",
    "\n",
    "d1 = ipywidgets.Dropdown(options=sorted(df['state'].unique()),value='California')\n",
    "d2 = ipywidgets.Dropdown(options=sorted(df.loc[df['state']=='California','county'].unique()),value='Los Angeles')\n",
    "def changestate(change):\n",
    "    d2.options=sorted(df.loc[df['state']==change.new,'county'].unique())\n",
    "d1.observe(changestate,'value')\n",
    "\n",
    "ipywidgets.interact(makecases,state=d1,county=d2);"
   ]
  }
 ],
 "metadata": {
  "kernelspec": {
   "display_name": "Python 3",
   "language": "python",
   "name": "python3"
  },
  "language_info": {
   "codemirror_mode": {
    "name": "ipython",
    "version": 3
   },
   "file_extension": ".py",
   "mimetype": "text/x-python",
   "name": "python",
   "nbconvert_exporter": "python",
   "pygments_lexer": "ipython3",
   "version": "3.7.3"
  }
 },
 "nbformat": 4,
 "nbformat_minor": 4
}
